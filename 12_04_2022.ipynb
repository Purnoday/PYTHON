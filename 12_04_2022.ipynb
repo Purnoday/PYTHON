{
  "nbformat": 4,
  "nbformat_minor": 0,
  "metadata": {
    "colab": {
      "name": "12-04-2022",
      "provenance": [],
      "authorship_tag": "ABX9TyMaSmd5+KfzrtV4QA8B3QlL",
      "include_colab_link": true
    },
    "kernelspec": {
      "name": "python3",
      "display_name": "Python 3"
    },
    "language_info": {
      "name": "python"
    }
  },
  "cells": [
    {
      "cell_type": "markdown",
      "metadata": {
        "id": "view-in-github",
        "colab_type": "text"
      },
      "source": [
        "<a href=\"https://colab.research.google.com/github/Purnoday/PYTHON/blob/main/12_04_2022.ipynb\" target=\"_parent\"><img src=\"https://colab.research.google.com/assets/colab-badge.svg\" alt=\"Open In Colab\"/></a>"
      ]
    },
    {
      "cell_type": "code",
      "execution_count": 5,
      "metadata": {
        "colab": {
          "base_uri": "https://localhost:8080/"
        },
        "id": "0_9S2f2TPmI6",
        "outputId": "ea6ca2d9-89b2-407f-fea5-fa4207f601ca"
      },
      "outputs": [
        {
          "output_type": "stream",
          "name": "stdout",
          "text": [
            "Please, Enter the lowest value14\n",
            "Please, Enter the highest value42\n",
            "The Prime Numbers in the range are:\n",
            "17\n",
            "19\n",
            "23\n",
            "29\n",
            "31\n",
            "37\n",
            "41\n"
          ]
        }
      ],
      "source": [
        "# Python program to display all the prime numbers within \n",
        "lower_value = int(input(\"Please, Enter the lowest value\"))\n",
        "upper_value = int(input(\"Please, Enter the highest value\"))\n",
        "print(\"The Prime Numbers in the range are:\")\n",
        "for number in range (lower_value,upper_value + 1):\n",
        "   if number > 1:\n",
        "     for i in range (2, number):\n",
        "       if (number % i) == 0:\n",
        "           break\n",
        "     else:\n",
        "       print (number) "
      ]
    },
    {
      "cell_type": "code",
      "source": [
        "# Multiplication table \n",
        "number =  int(input(\"Enter the number\"))\n",
        "print (\"The Multiplication Table of:\",number)\n",
        "for count in range(1,11):\n",
        "  print(number,'x',count,'=',number *count)"
      ],
      "metadata": {
        "colab": {
          "base_uri": "https://localhost:8080/"
        },
        "id": "SP_qaj8LalHy",
        "outputId": "c7c8896f-a1c4-4f1e-deb8-cb2bcb1f873f"
      },
      "execution_count": 12,
      "outputs": [
        {
          "output_type": "stream",
          "name": "stdout",
          "text": [
            "Enter the number14\n",
            "The Multiplication Table of: 14\n",
            "14 x 1 = 14\n",
            "14 x 2 = 28\n",
            "14 x 3 = 42\n",
            "14 x 4 = 56\n",
            "14 x 5 = 70\n",
            "14 x 6 = 84\n",
            "14 x 7 = 98\n",
            "14 x 8 = 112\n",
            "14 x 9 = 126\n",
            "14 x 10 = 140\n"
          ]
        }
      ]
    },
    {
      "cell_type": "code",
      "source": [
        ""
      ],
      "metadata": {
        "id": "chtYzyQ5cHAE"
      },
      "execution_count": null,
      "outputs": []
    }
  ]
}